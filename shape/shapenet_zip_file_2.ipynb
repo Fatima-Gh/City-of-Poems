{
 "cells": [
  {
   "cell_type": "code",
   "execution_count": null,
   "metadata": {},
   "outputs": [],
   "source": [
    "from zipfile import ZipFile\n",
    "import json\n",
    "import numpy as np\n",
    "import pandas as pd\n",
    "import os\n",
    "from shutil import copyfile\n",
    "import binvox_rw # file need to be in the same folder\n"
   ]
  },
  {
   "cell_type": "code",
   "execution_count": null,
   "metadata": {},
   "outputs": [],
   "source": [
    "# create dirctory\n",
    "os.mkdir(\"tower_dataset_npz\")"
   ]
  },
  {
   "cell_type": "code",
   "execution_count": null,
   "metadata": {},
   "outputs": [],
   "source": [
    "dst = 'tower_dataset_2' ## destination folder ,,, add full path of your destination\n",
    "path = 'tower_dataset' ## source folder,,,, add full path of your source\n",
    "folders = os.listdir(path)\n"
   ]
  },
  {
   "cell_type": "code",
   "execution_count": null,
   "metadata": {},
   "outputs": [],
   "source": [
    "# check number of surce files\n",
    "len(folders)"
   ]
  },
  {
   "cell_type": "code",
   "execution_count": null,
   "metadata": {},
   "outputs": [],
   "source": [
    "# loop through source folder and copy voxel files to destination\n",
    "for fldr in folders:\n",
    "    surface = os.path.join(path,fldr, \"models\", \"model_normalized.surface.binvox\")\n",
    "    solid = os.path.join(path,fldr, \"models\", \"model_normalized.solid.binvox\")\n",
    "    surface_dst = os.path.join(dst, fldr+'_surface.binvox')\n",
    "    solid_dst = os.path.join(dst, fldr+'_solid.binvox')\n",
    "    copyfile(surface, surface_dst)\n",
    "    copyfile(solid, solid_dst)\n"
   ]
  },
  {
   "cell_type": "code",
   "execution_count": null,
   "metadata": {},
   "outputs": [],
   "source": [
    "# check number of destination files after moving\n",
    "numb = os.listdir(dst)\n",
    "print(len(numb))"
   ]
  },
  {
   "cell_type": "code",
   "execution_count": null,
   "metadata": {},
   "outputs": [],
   "source": [
    "dst2 = 'tower_dataset_npz' ## add full path of your final formatted files folder"
   ]
  },
  {
   "cell_type": "code",
   "execution_count": null,
   "metadata": {},
   "outputs": [],
   "source": [
    "# loop through all files and save them as npz\n",
    "for file in numb:\n",
    "    file_1 = os.path.join(dst,file)\n",
    "    with open(file_1, 'rb') as f:\n",
    "        model = binvox_rw.read_as_3d_array(f)\n",
    "    \n",
    "    new_file = os.path.join(dst2, file[:-7])\n",
    "    np.savez(new_file, model.data)\n",
    "    "
   ]
  }
 ],
 "metadata": {
  "interpreter": {
   "hash": "c9afcfddb87cca4886560df1d6ce9c19b33ddec0acb9db278cebeeb6174a8c43"
  },
  "kernelspec": {
   "display_name": "Python 3.6.8 64-bit",
   "language": "python",
   "name": "python3"
  },
  "language_info": {
   "codemirror_mode": {
    "name": "ipython",
    "version": 3
   },
   "file_extension": ".py",
   "mimetype": "text/x-python",
   "name": "python",
   "nbconvert_exporter": "python",
   "pygments_lexer": "ipython3",
   "version": "3.6.8"
  },
  "orig_nbformat": 4
 },
 "nbformat": 4,
 "nbformat_minor": 2
}
